{
 "cells": [
  {
   "cell_type": "code",
   "execution_count": 2,
   "id": "f4b11563-d50a-47fa-ac29-72f863b12311",
   "metadata": {},
   "outputs": [],
   "source": [
    "import pandas as pd"
   ]
  },
  {
   "cell_type": "code",
   "execution_count": 6,
   "id": "b9f43488-d6ea-415a-9c66-8534fc86e965",
   "metadata": {},
   "outputs": [],
   "source": [
    "dataset = pd.read_csv(\"padas_question.csv\")"
   ]
  },
  {
   "cell_type": "code",
   "execution_count": 81,
   "id": "dbc91410-cf03-4f43-af7a-88aef885a82c",
   "metadata": {},
   "outputs": [
    {
     "data": {
      "text/html": [
       "<div>\n",
       "<style scoped>\n",
       "    .dataframe tbody tr th:only-of-type {\n",
       "        vertical-align: middle;\n",
       "    }\n",
       "\n",
       "    .dataframe tbody tr th {\n",
       "        vertical-align: top;\n",
       "    }\n",
       "\n",
       "    .dataframe thead th {\n",
       "        text-align: right;\n",
       "    }\n",
       "</style>\n",
       "<table border=\"1\" class=\"dataframe\">\n",
       "  <thead>\n",
       "    <tr style=\"text-align: right;\">\n",
       "      <th></th>\n",
       "      <th>Name</th>\n",
       "      <th>Gender</th>\n",
       "      <th>Age</th>\n",
       "      <th>Height (cm)</th>\n",
       "      <th>Weight (kg)</th>\n",
       "      <th>City</th>\n",
       "      <th>BMI</th>\n",
       "    </tr>\n",
       "  </thead>\n",
       "  <tbody>\n",
       "    <tr>\n",
       "      <th>0</th>\n",
       "      <td>Alice</td>\n",
       "      <td>Female</td>\n",
       "      <td>25</td>\n",
       "      <td>165</td>\n",
       "      <td>58</td>\n",
       "      <td>New York</td>\n",
       "      <td>0.002130</td>\n",
       "    </tr>\n",
       "    <tr>\n",
       "      <th>1</th>\n",
       "      <td>Bob</td>\n",
       "      <td>Male</td>\n",
       "      <td>30</td>\n",
       "      <td>180</td>\n",
       "      <td>80</td>\n",
       "      <td>Los Angeles</td>\n",
       "      <td>0.002469</td>\n",
       "    </tr>\n",
       "    <tr>\n",
       "      <th>2</th>\n",
       "      <td>Charlie</td>\n",
       "      <td>Male</td>\n",
       "      <td>35</td>\n",
       "      <td>175</td>\n",
       "      <td>70</td>\n",
       "      <td>Chicago</td>\n",
       "      <td>0.002286</td>\n",
       "    </tr>\n",
       "    <tr>\n",
       "      <th>3</th>\n",
       "      <td>Diana</td>\n",
       "      <td>Female</td>\n",
       "      <td>28</td>\n",
       "      <td>170</td>\n",
       "      <td>65</td>\n",
       "      <td>Miami</td>\n",
       "      <td>0.002249</td>\n",
       "    </tr>\n",
       "    <tr>\n",
       "      <th>4</th>\n",
       "      <td>Eva</td>\n",
       "      <td>Female</td>\n",
       "      <td>27</td>\n",
       "      <td>175</td>\n",
       "      <td>60</td>\n",
       "      <td>New York</td>\n",
       "      <td>0.001959</td>\n",
       "    </tr>\n",
       "    <tr>\n",
       "      <th>5</th>\n",
       "      <td>Frank</td>\n",
       "      <td>Male</td>\n",
       "      <td>40</td>\n",
       "      <td>190</td>\n",
       "      <td>85</td>\n",
       "      <td>Houston</td>\n",
       "      <td>0.002355</td>\n",
       "    </tr>\n",
       "    <tr>\n",
       "      <th>6</th>\n",
       "      <td>Grace</td>\n",
       "      <td>Female</td>\n",
       "      <td>32</td>\n",
       "      <td>168</td>\n",
       "      <td>55</td>\n",
       "      <td>Chicago</td>\n",
       "      <td>0.001949</td>\n",
       "    </tr>\n",
       "    <tr>\n",
       "      <th>7</th>\n",
       "      <td>Henry</td>\n",
       "      <td>Male</td>\n",
       "      <td>45</td>\n",
       "      <td>175</td>\n",
       "      <td>75</td>\n",
       "      <td>Los Angeles</td>\n",
       "      <td>0.002449</td>\n",
       "    </tr>\n",
       "    <tr>\n",
       "      <th>8</th>\n",
       "      <td>Ivy</td>\n",
       "      <td>Female</td>\n",
       "      <td>26</td>\n",
       "      <td>172</td>\n",
       "      <td>63</td>\n",
       "      <td>Miami</td>\n",
       "      <td>0.002130</td>\n",
       "    </tr>\n",
       "    <tr>\n",
       "      <th>9</th>\n",
       "      <td>Jack</td>\n",
       "      <td>Male</td>\n",
       "      <td>28</td>\n",
       "      <td>180</td>\n",
       "      <td>78</td>\n",
       "      <td>New York</td>\n",
       "      <td>0.002407</td>\n",
       "    </tr>\n",
       "  </tbody>\n",
       "</table>\n",
       "</div>"
      ],
      "text/plain": [
       "      Name  Gender  Age  Height (cm)  Weight (kg)         City       BMI\n",
       "0    Alice  Female   25          165           58     New York  0.002130\n",
       "1      Bob    Male   30          180           80  Los Angeles  0.002469\n",
       "2  Charlie    Male   35          175           70      Chicago  0.002286\n",
       "3    Diana  Female   28          170           65        Miami  0.002249\n",
       "4      Eva  Female   27          175           60     New York  0.001959\n",
       "5    Frank    Male   40          190           85      Houston  0.002355\n",
       "6    Grace  Female   32          168           55      Chicago  0.001949\n",
       "7    Henry    Male   45          175           75  Los Angeles  0.002449\n",
       "8      Ivy  Female   26          172           63        Miami  0.002130\n",
       "9     Jack    Male   28          180           78     New York  0.002407"
      ]
     },
     "execution_count": 81,
     "metadata": {},
     "output_type": "execute_result"
    }
   ],
   "source": [
    "dataset"
   ]
  },
  {
   "cell_type": "markdown",
   "id": "27c48dd1-82c4-4f6d-9eea-6e8f53726160",
   "metadata": {},
   "source": [
    "### 1. Import pandas and read the data into a DataFrame. Print the first 5 rows of the DataFrame."
   ]
  },
  {
   "cell_type": "code",
   "execution_count": 8,
   "id": "c833e5ba-0ef4-432d-b8a3-8278009f5e17",
   "metadata": {},
   "outputs": [],
   "source": [
    "import pandas as pd"
   ]
  },
  {
   "cell_type": "code",
   "execution_count": 12,
   "id": "f65d0a40-77ee-4aa6-abcb-310a56663e5a",
   "metadata": {},
   "outputs": [],
   "source": [
    "dataset = pd.read_csv(\"padas_question.csv\")"
   ]
  },
  {
   "cell_type": "code",
   "execution_count": 13,
   "id": "a6f08b19-41d5-4442-839a-d4dfca784427",
   "metadata": {},
   "outputs": [
    {
     "data": {
      "text/html": [
       "<div>\n",
       "<style scoped>\n",
       "    .dataframe tbody tr th:only-of-type {\n",
       "        vertical-align: middle;\n",
       "    }\n",
       "\n",
       "    .dataframe tbody tr th {\n",
       "        vertical-align: top;\n",
       "    }\n",
       "\n",
       "    .dataframe thead th {\n",
       "        text-align: right;\n",
       "    }\n",
       "</style>\n",
       "<table border=\"1\" class=\"dataframe\">\n",
       "  <thead>\n",
       "    <tr style=\"text-align: right;\">\n",
       "      <th></th>\n",
       "      <th>Name</th>\n",
       "      <th>Gender</th>\n",
       "      <th>Age</th>\n",
       "      <th>Height (cm)</th>\n",
       "      <th>Weight (kg)</th>\n",
       "      <th>City</th>\n",
       "    </tr>\n",
       "  </thead>\n",
       "  <tbody>\n",
       "    <tr>\n",
       "      <th>0</th>\n",
       "      <td>Alice</td>\n",
       "      <td>Female</td>\n",
       "      <td>25</td>\n",
       "      <td>165</td>\n",
       "      <td>58</td>\n",
       "      <td>New York</td>\n",
       "    </tr>\n",
       "    <tr>\n",
       "      <th>1</th>\n",
       "      <td>Bob</td>\n",
       "      <td>Male</td>\n",
       "      <td>30</td>\n",
       "      <td>180</td>\n",
       "      <td>80</td>\n",
       "      <td>Los Angeles</td>\n",
       "    </tr>\n",
       "    <tr>\n",
       "      <th>2</th>\n",
       "      <td>Charlie</td>\n",
       "      <td>Male</td>\n",
       "      <td>35</td>\n",
       "      <td>175</td>\n",
       "      <td>70</td>\n",
       "      <td>Chicago</td>\n",
       "    </tr>\n",
       "    <tr>\n",
       "      <th>3</th>\n",
       "      <td>Diana</td>\n",
       "      <td>Female</td>\n",
       "      <td>28</td>\n",
       "      <td>170</td>\n",
       "      <td>65</td>\n",
       "      <td>Miami</td>\n",
       "    </tr>\n",
       "    <tr>\n",
       "      <th>4</th>\n",
       "      <td>Eva</td>\n",
       "      <td>Female</td>\n",
       "      <td>27</td>\n",
       "      <td>175</td>\n",
       "      <td>60</td>\n",
       "      <td>New York</td>\n",
       "    </tr>\n",
       "    <tr>\n",
       "      <th>5</th>\n",
       "      <td>Frank</td>\n",
       "      <td>Male</td>\n",
       "      <td>40</td>\n",
       "      <td>190</td>\n",
       "      <td>85</td>\n",
       "      <td>Houston</td>\n",
       "    </tr>\n",
       "    <tr>\n",
       "      <th>6</th>\n",
       "      <td>Grace</td>\n",
       "      <td>Female</td>\n",
       "      <td>32</td>\n",
       "      <td>168</td>\n",
       "      <td>55</td>\n",
       "      <td>Chicago</td>\n",
       "    </tr>\n",
       "    <tr>\n",
       "      <th>7</th>\n",
       "      <td>Henry</td>\n",
       "      <td>Male</td>\n",
       "      <td>45</td>\n",
       "      <td>175</td>\n",
       "      <td>75</td>\n",
       "      <td>Los Angeles</td>\n",
       "    </tr>\n",
       "    <tr>\n",
       "      <th>8</th>\n",
       "      <td>Ivy</td>\n",
       "      <td>Female</td>\n",
       "      <td>26</td>\n",
       "      <td>172</td>\n",
       "      <td>63</td>\n",
       "      <td>Miami</td>\n",
       "    </tr>\n",
       "    <tr>\n",
       "      <th>9</th>\n",
       "      <td>Jack</td>\n",
       "      <td>Male</td>\n",
       "      <td>28</td>\n",
       "      <td>180</td>\n",
       "      <td>78</td>\n",
       "      <td>New York</td>\n",
       "    </tr>\n",
       "  </tbody>\n",
       "</table>\n",
       "</div>"
      ],
      "text/plain": [
       "      Name  Gender  Age  Height (cm)  Weight (kg)         City\n",
       "0    Alice  Female   25          165           58     New York\n",
       "1      Bob    Male   30          180           80  Los Angeles\n",
       "2  Charlie    Male   35          175           70      Chicago\n",
       "3    Diana  Female   28          170           65        Miami\n",
       "4      Eva  Female   27          175           60     New York\n",
       "5    Frank    Male   40          190           85      Houston\n",
       "6    Grace  Female   32          168           55      Chicago\n",
       "7    Henry    Male   45          175           75  Los Angeles\n",
       "8      Ivy  Female   26          172           63        Miami\n",
       "9     Jack    Male   28          180           78     New York"
      ]
     },
     "execution_count": 13,
     "metadata": {},
     "output_type": "execute_result"
    }
   ],
   "source": [
    "dataset"
   ]
  },
  {
   "cell_type": "code",
   "execution_count": 15,
   "id": "25829d1c-453a-4784-a794-d761ebb8b6ec",
   "metadata": {},
   "outputs": [
    {
     "data": {
      "text/html": [
       "<div>\n",
       "<style scoped>\n",
       "    .dataframe tbody tr th:only-of-type {\n",
       "        vertical-align: middle;\n",
       "    }\n",
       "\n",
       "    .dataframe tbody tr th {\n",
       "        vertical-align: top;\n",
       "    }\n",
       "\n",
       "    .dataframe thead th {\n",
       "        text-align: right;\n",
       "    }\n",
       "</style>\n",
       "<table border=\"1\" class=\"dataframe\">\n",
       "  <thead>\n",
       "    <tr style=\"text-align: right;\">\n",
       "      <th></th>\n",
       "      <th>Name</th>\n",
       "      <th>Gender</th>\n",
       "      <th>Age</th>\n",
       "      <th>Height (cm)</th>\n",
       "      <th>Weight (kg)</th>\n",
       "      <th>City</th>\n",
       "    </tr>\n",
       "  </thead>\n",
       "  <tbody>\n",
       "    <tr>\n",
       "      <th>0</th>\n",
       "      <td>Alice</td>\n",
       "      <td>Female</td>\n",
       "      <td>25</td>\n",
       "      <td>165</td>\n",
       "      <td>58</td>\n",
       "      <td>New York</td>\n",
       "    </tr>\n",
       "    <tr>\n",
       "      <th>1</th>\n",
       "      <td>Bob</td>\n",
       "      <td>Male</td>\n",
       "      <td>30</td>\n",
       "      <td>180</td>\n",
       "      <td>80</td>\n",
       "      <td>Los Angeles</td>\n",
       "    </tr>\n",
       "    <tr>\n",
       "      <th>2</th>\n",
       "      <td>Charlie</td>\n",
       "      <td>Male</td>\n",
       "      <td>35</td>\n",
       "      <td>175</td>\n",
       "      <td>70</td>\n",
       "      <td>Chicago</td>\n",
       "    </tr>\n",
       "    <tr>\n",
       "      <th>3</th>\n",
       "      <td>Diana</td>\n",
       "      <td>Female</td>\n",
       "      <td>28</td>\n",
       "      <td>170</td>\n",
       "      <td>65</td>\n",
       "      <td>Miami</td>\n",
       "    </tr>\n",
       "    <tr>\n",
       "      <th>4</th>\n",
       "      <td>Eva</td>\n",
       "      <td>Female</td>\n",
       "      <td>27</td>\n",
       "      <td>175</td>\n",
       "      <td>60</td>\n",
       "      <td>New York</td>\n",
       "    </tr>\n",
       "  </tbody>\n",
       "</table>\n",
       "</div>"
      ],
      "text/plain": [
       "      Name  Gender  Age  Height (cm)  Weight (kg)         City\n",
       "0    Alice  Female   25          165           58     New York\n",
       "1      Bob    Male   30          180           80  Los Angeles\n",
       "2  Charlie    Male   35          175           70      Chicago\n",
       "3    Diana  Female   28          170           65        Miami\n",
       "4      Eva  Female   27          175           60     New York"
      ]
     },
     "execution_count": 15,
     "metadata": {},
     "output_type": "execute_result"
    }
   ],
   "source": [
    "dataset.head(5)"
   ]
  },
  {
   "cell_type": "markdown",
   "id": "a6c0461e-b176-4da8-9225-9841b67c9ecd",
   "metadata": {},
   "source": [
    "### 2. Print the number of rows and columns in the DataFrame."
   ]
  },
  {
   "cell_type": "code",
   "execution_count": 102,
   "id": "c23cbd5d-9e03-4680-b8f9-622f3c755146",
   "metadata": {},
   "outputs": [
    {
     "name": "stdout",
     "output_type": "stream",
     "text": [
      "numbers of rows: 10\n",
      "number of coloumns: 8\n"
     ]
    }
   ],
   "source": [
    "print(\"numbers of rows:\",dataset.shape[0])\n",
    "\n",
    "print(\"number of coloumns:\",dataset.shape[1])"
   ]
  },
  {
   "cell_type": "markdown",
   "id": "6a51150e-d10f-4333-9aa5-a0577961532b",
   "metadata": {},
   "source": [
    "### 3. Print the null value count"
   ]
  },
  {
   "cell_type": "code",
   "execution_count": 32,
   "id": "e103117d-e148-4400-9e04-c7abd8b48533",
   "metadata": {},
   "outputs": [],
   "source": [
    "null_count= dataset.isnull().sum()"
   ]
  },
  {
   "cell_type": "code",
   "execution_count": 33,
   "id": "626ac464-e814-4598-85e8-18255af36963",
   "metadata": {},
   "outputs": [
    {
     "name": "stdout",
     "output_type": "stream",
     "text": [
      "Name           0\n",
      "Gender         0\n",
      "Age            0\n",
      "Height (cm)    0\n",
      "Weight (kg)    0\n",
      "City           0\n",
      "dtype: int64\n"
     ]
    }
   ],
   "source": [
    "print(null_count)"
   ]
  },
  {
   "cell_type": "markdown",
   "id": "d95e0169-1db3-4de0-983b-0d0c7a5cb4d7",
   "metadata": {},
   "source": [
    "### 4. Print the average age, height, and weight of the people in the DataFrame.\n"
   ]
  },
  {
   "cell_type": "code",
   "execution_count": 37,
   "id": "0cde1a3b-cc21-4131-b0b4-661abfdb4cfd",
   "metadata": {},
   "outputs": [
    {
     "name": "stdout",
     "output_type": "stream",
     "text": [
      "Average Age: 31.6\n",
      "Average height: 175.0\n",
      "Average height: 68.9\n"
     ]
    }
   ],
   "source": [
    "average_age = dataset[\"Age\"].mean()\n",
    "print(\"Average Age:\",average_age)\n",
    "\n",
    "average_height = dataset[\"Height (cm)\"].mean()\n",
    "print(\"Average height:\",average_height)\n",
    "\n",
    "average_weight = dataset[\"Weight (kg)\"].mean()\n",
    "print(\"Average height:\", average_weight)"
   ]
  },
  {
   "cell_type": "markdown",
   "id": "22cec8b0-443e-4318-bb9f-e8df4d91d51e",
   "metadata": {},
   "source": [
    "### 5. Print the name and city of the person who is the tallest in the DataFrame.\n"
   ]
  },
  {
   "cell_type": "code",
   "execution_count": 124,
   "id": "c18093f7-f612-4b33-9c42-d6129b6ce3ba",
   "metadata": {},
   "outputs": [
    {
     "name": "stdout",
     "output_type": "stream",
     "text": [
      "The tallest person is Frank from Houston.\n"
     ]
    }
   ],
   "source": [
    "tallest_person = dataset.loc[dataset[\"Height (cm)\"].idxmax()]\n",
    "\n",
    "print(f\"The tallest person is {tallest_person['Name']} from {tallest_person['City']}.\")"
   ]
  },
  {
   "cell_type": "markdown",
   "id": "50853b9f-88ef-439d-a169-125ada0e4ecd",
   "metadata": {},
   "source": [
    "### 6. Create a new column in the DataFrame called \"BMI\" that calculates the body mass index of each person. BMI is calculated as weight (kg) divided by height (m) squared. Print the DataFrame with the new column."
   ]
  },
  {
   "cell_type": "code",
   "execution_count": 98,
   "id": "c73a81d6-fe55-41c7-9f26-ef4445717cbe",
   "metadata": {},
   "outputs": [
    {
     "name": "stdout",
     "output_type": "stream",
     "text": [
      "      Name  Gender  Age  Height (cm)  Weight (kg)         City        BMI  \\\n",
      "0    Alice  Female   25          165           58     New York  21.303949   \n",
      "1      Bob    Male   30          180           80  Los Angeles  24.691358   \n",
      "2  Charlie    Male   35          175           70      Chicago  22.857143   \n",
      "3    Diana  Female   28          170           65        Miami  22.491349   \n",
      "4      Eva  Female   27          175           60     New York  19.591837   \n",
      "5    Frank    Male   40          190           85      Houston  23.545706   \n",
      "6    Grace  Female   32          168           55      Chicago  19.486961   \n",
      "7    Henry    Male   45          175           75  Los Angeles  24.489796   \n",
      "8      Ivy  Female   26          172           63        Miami  21.295295   \n",
      "9     Jack    Male   28          180           78     New York  24.074074   \n",
      "\n",
      "   height_m  \n",
      "0      1.65  \n",
      "1      1.80  \n",
      "2      1.75  \n",
      "3      1.70  \n",
      "4      1.75  \n",
      "5      1.90  \n",
      "6      1.68  \n",
      "7      1.75  \n",
      "8      1.72  \n",
      "9      1.80  \n"
     ]
    }
   ],
   "source": [
    "dataset['height_m'] = (dataset['Height (cm)'] / 100) ##convert cm to m\n",
    "\n",
    "## BMI\n",
    "\n",
    "dataset['BMI'] = dataset['Weight (kg)'] / (dataset['height_m']** 2)\n",
    "print(dataset)"
   ]
  },
  {
   "cell_type": "markdown",
   "id": "26b1d9ad-077c-4fb6-aa36-c50df7e08fe5",
   "metadata": {},
   "source": [
    "### 7. Group the data by gender and print the average age, height, and weight of males and females separately."
   ]
  },
  {
   "cell_type": "code",
   "execution_count": 107,
   "id": "a9fc2104-ebec-402e-8e88-a3baa469f249",
   "metadata": {},
   "outputs": [
    {
     "name": "stdout",
     "output_type": "stream",
     "text": [
      "         Age  Height (cm)  Weight (kg)\n",
      "Gender                                \n",
      "Female  27.6        170.0         60.2\n",
      "Male    35.6        180.0         77.6\n"
     ]
    }
   ],
   "source": [
    "gender = dataset.groupby('Gender')\n",
    "\n",
    "result = gender.agg({'Age': 'mean','Height (cm)': 'mean','Weight (kg)': 'mean'})\n",
    "\n",
    "print(result)"
   ]
  },
  {
   "cell_type": "markdown",
   "id": "7ca0e4e3-ac69-457d-9d65-c593ba26d5ef",
   "metadata": {},
   "source": [
    "### 8. Sort the data by age in ascending order and print the first 3 rows of the sorted DataFrame."
   ]
  },
  {
   "cell_type": "code",
   "execution_count": 110,
   "id": "e9e3eb42-1de7-499d-95a2-d8a1678dbeac",
   "metadata": {},
   "outputs": [
    {
     "name": "stdout",
     "output_type": "stream",
     "text": [
      "    Name  Gender  Age  Height (cm)  Weight (kg)      City        BMI  height_m\n",
      "0  Alice  Female   25          165           58  New York  21.303949      1.65\n",
      "8    Ivy  Female   26          172           63     Miami  21.295295      1.72\n",
      "4    Eva  Female   27          175           60  New York  19.591837      1.75\n"
     ]
    }
   ],
   "source": [
    "sort = dataset.sort_values(by=\"Age\")\n",
    "\n",
    "print(sort.head(3))"
   ]
  },
  {
   "cell_type": "markdown",
   "id": "8a45c123-df28-43c0-b2fa-d04763dfee4b",
   "metadata": {},
   "source": [
    "### 9. Filter the data to only include people who live in New York and print the resulting DataFrame."
   ]
  },
  {
   "cell_type": "code",
   "execution_count": 119,
   "id": "b2b87963-dd04-4247-bad0-40dbeaf071cf",
   "metadata": {},
   "outputs": [
    {
     "name": "stdout",
     "output_type": "stream",
     "text": [
      "    Name  Gender  Age  Height (cm)  Weight (kg)      City        BMI  height_m\n",
      "0  Alice  Female   25          165           58  New York  21.303949      1.65\n",
      "4    Eva  Female   27          175           60  New York  19.591837      1.75\n",
      "9   Jack    Male   28          180           78  New York  24.074074      1.80\n"
     ]
    }
   ],
   "source": [
    "people = dataset[dataset['City'] == 'New York']\n",
    "\n",
    "print(people)"
   ]
  }
 ],
 "metadata": {
  "kernelspec": {
   "display_name": "Python 3 (ipykernel)",
   "language": "python",
   "name": "python3"
  },
  "language_info": {
   "codemirror_mode": {
    "name": "ipython",
    "version": 3
   },
   "file_extension": ".py",
   "mimetype": "text/x-python",
   "name": "python",
   "nbconvert_exporter": "python",
   "pygments_lexer": "ipython3",
   "version": "3.12.2"
  }
 },
 "nbformat": 4,
 "nbformat_minor": 5
}
